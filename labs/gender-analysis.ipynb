{
 "cells": [
  {
   "cell_type": "markdown",
   "metadata": {
    "tags": [
     "l0"
    ]
   },
   "source": [
    "# Lab: Gender Analysis of Twitter Dataset \n",
    "\n",
    "## History \n",
    "\n",
    "This data set was used to train a CrowdFlower AI gender predictor. Contributors were asked to simply view a Twitter profile and judge whether the user was a male, a female, or a brand (non-individual). The dataset contains 20,000 rows, each with a user name, a random tweet, account profile and image, location, and even link and sidebar color.\n",
    "\n",
    "Sources: \n",
    "* https://www.crowdflower.com/data-for-everyone/\n",
    "* https://www.crowdflower.com/using-machine-learning-to-predict-gender/\n",
    "\n",
    "### Exercise\n",
    "\n",
    "* Perform data cleaning.\n",
    "* Determine which tweets were tweeted by Males and which tweets were tweeted by females. Assign them to the variables,\n",
    "male_words and female_words.\n",
    "* Do a bar plot using seaborn."
   ]
  },
  {
   "cell_type": "code",
   "execution_count": 1,
   "metadata": {
    "tags": [
     "l1"
    ]
   },
   "outputs": [
    {
     "name": "stdout",
     "output_type": "stream",
     "text": [
      "\n"
     ]
    }
   ],
   "source": [
    "from collections import defaultdict\n",
    "from sklearn.naive_bayes import MultinomialNB\n",
    "from sklearn.model_selection import train_test_split\n",
    "from sklearn.feature_extraction.text import CountVectorizer\n",
    "from sklearn.preprocessing import LabelEncoder\n",
    "from nltk.corpus import stopwords\n",
    "import numpy as np \n",
    "import pandas as pd \n",
    "import matplotlib.pyplot as plt\n",
    "import re\n",
    "import seaborn as sns\n",
    "\n",
    "tweet=pd.read_csv(\"https://s3.amazonaws.com/refactored/lab_data/genderclassification.csv\",encoding='latin1')\n",
    "tweet.head(3)"
   ]
  }
 ],
 "metadata": {
  "executed_sections": [],
  "kernelspec": {
   "display_name": "Python 3",
   "language": "python",
   "name": "python3"
  },
  "language_info": {
   "codemirror_mode": {
    "name": "ipython",
    "version": 3
   },
   "file_extension": ".py",
   "mimetype": "text/x-python",
   "name": "python",
   "nbconvert_exporter": "python",
   "pygments_lexer": "ipython3",
   "version": "3.5.2"
  }
 },
 "nbformat": 4,
 "nbformat_minor": 2
}